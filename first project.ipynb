{
    "cells": [
        {
            "metadata": {},
            "cell_type": "markdown",
            "source": "# My Jupyter Notebook on IBM Watson Studio"
        },
        {
            "metadata": {},
            "cell_type": "markdown",
            "source": "**Edwar Josep Benavente Ingiltupa**\n\nCurrent occupation: Student.\n\nPursued career: Data scientist."
        },
        {
            "metadata": {},
            "cell_type": "markdown",
            "source": "*I wanto to be a data scientist because I'll gain a wide array of new skills that will allow you to leverage data to aid companies with their business strategies, and explore exciting new fields developing from within data science\u2014fields like artificial intelligence, machine learning, big data, and more.*"
        },
        {
            "metadata": {},
            "cell_type": "markdown",
            "source": "### This is a function which returns the power of two numbers."
        },
        {
            "metadata": {},
            "cell_type": "code",
            "source": "def pow_nums(num1,num2):\n    print(num1 ** num2)\npow_nums(5,5)",
            "execution_count": 11,
            "outputs": [
                {
                    "output_type": "stream",
                    "text": "3125\n",
                    "name": "stdout"
                }
            ]
        },
        {
            "metadata": {},
            "cell_type": "markdown",
            "source": "___________\n1. Bullet points:\n- This is the first bullet point.\n- Now I'm goint to show an image\n\n<img src=\"https://www.dpreview.com/files/p/articles/7952219469/robot-couple-eiffel-tower-imagen.jpeg\"\n     alt=\"Markdown Monster icon\"\n     style=\"float: left; margin-right: 10px;\" />\n"
        },
        {
            "metadata": {},
            "cell_type": "code",
            "source": "",
            "execution_count": null,
            "outputs": []
        }
    ],
    "metadata": {
        "kernelspec": {
            "name": "python3",
            "display_name": "Python 3.10",
            "language": "python"
        },
        "language_info": {
            "name": "python",
            "version": "3.10.6",
            "mimetype": "text/x-python",
            "codemirror_mode": {
                "name": "ipython",
                "version": 3
            },
            "pygments_lexer": "ipython3",
            "nbconvert_exporter": "python",
            "file_extension": ".py"
        }
    },
    "nbformat": 4,
    "nbformat_minor": 1
}